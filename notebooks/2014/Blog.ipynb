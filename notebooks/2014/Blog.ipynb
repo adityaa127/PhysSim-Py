{
 "cells": [
  {
   "cell_type": "markdown",
   "metadata": {},
   "source": [
    "# [Homepage](http://rajeshrinet.github.io)\n",
    "$$\n",
    "$$"
   ]
  },
  {
   "cell_type": "markdown",
   "metadata": {},
   "source": [
    "### Active colloids\n",
    "Active colloids are microscopic particles, which drive exterior flow, even when they are stationary. The result fluid stress may also cause them to self-propel in absence of external forces or torques. [Read more](http://rajeshrinet.github.io/blog/2018/active-colloids/)\n",
    "\n",
    "\n",
    "### ASEP\n",
    "Asymmetric simple exclusion processes (ASEP) are stochastic lattice models of particles entering, hopping and leaving the lattice, with hard core interaction between them. [Read more](http://rajeshrinet.github.io/blog/2014/asep/)\n",
    "\n",
    "\n",
    "### Central limit theorem\n",
    "Central limit theorem states that sum of independent and identically distributed random numbers approach a Gaussian distribution. [Read more](http://rajeshrinet.github.io/blog/2014/central-limit-theorem/)\n",
    "\n",
    "\n",
    "### Cython\n",
    "Cython is an attempt to make a superset of python which has the high level coolness of python along with the speed of C. [Read more](http://rajeshrinet.github.io/blog/2014/cython/)\n",
    "\n",
    "\n",
    "### Data analysis\n",
    "Some basic data analysis using python has been discussed here. [Read more](http://rajeshrinet.github.io/blog/2014/data-analysis/)\n",
    "\n",
    "\n",
    "### Gray-Scott reaction–diffusion equation\n",
    "\n",
    "Pattern formation in reaction-diffusion systems. [Read more](http://rajeshrinet.github.io/blog/2016/gray-scott/)\n",
    "\n",
    "\n",
    "### Ising model\n",
    "Here, Ising model is simulated using Monte Carlo algorithm. Also, discussed is the corresponding hydrodynamic model. [Read more](http://rajeshrinet.github.io/blog/2014/ising-model/)\n",
    "\n",
    "\n",
    "### Notes\n",
    "My older notes on statistical physics. [Read more](https://rajeshrinet.github.io/blog/notes)\n",
    "\n",
    "\n",
    "### ODEs\n",
    "Some techniques to solve ordinary differential equations in python. [Read more](http://rajeshrinet.github.io/blog/2014/odes/)\n",
    "\n",
    "\n",
    "### PDEs\n",
    "Solving partial differential equations in python. [Read more](http://rajeshrinet.github.io/blog/2014/pdes/)\n",
    "\n",
    "\n",
    "### Plotting in python\n",
    "Here, we discuss some basic plotting using matplotlib. [Read more](http://rajeshrinet.github.io/blog/2014/numpy-matplotlib/)\n",
    "$$\n",
    "$$"
   ]
  },
  {
   "cell_type": "markdown",
   "metadata": {},
   "source": [
    "The contents of the blog have been written in Jupyter notebooks. The notebooks can be accessed [here](https://github.com/rajeshrinet/compPhy/tree/master/notebooks). \n",
    " \n",
    "$$\n",
    "$$"
   ]
  }
 ],
 "metadata": {
  "kernelspec": {
   "display_name": "Python [Root]",
   "language": "python",
   "name": "Python [Root]"
  },
  "language_info": {
   "codemirror_mode": {
    "name": "ipython",
    "version": 2
   },
   "file_extension": ".py",
   "mimetype": "text/x-python",
   "name": "python",
   "nbconvert_exporter": "python",
   "pygments_lexer": "ipython2",
   "version": "2.7.12"
  }
 },
 "nbformat": 4,
 "nbformat_minor": 0
}
