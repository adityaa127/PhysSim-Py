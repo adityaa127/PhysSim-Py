{
 "cells": [
  {
   "cell_type": "markdown",
   "metadata": {},
   "source": [
    "### Cricket\n",
    "\n",
    "This aims to be a blog, which synthesizes my cricketing thoughts. Growing up in India, I have passsionately played soft-ball cricket during my childhood. Now I am a post-doc in the UK and I find *gully* cricket hard to get. So I joined that hard-ball cricket. This was quite an experience, as this is altogether a *different* ball game!\n",
    "\n",
    "I am mainly a fast bowler and probably English conditions are suited more for a fast bowler - you can make the ball seam away from the pitch or swing the ball in the air. "
   ]
  },
  {
   "cell_type": "code",
   "execution_count": null,
   "metadata": {},
   "outputs": [],
   "source": []
  }
 ],
 "metadata": {
  "kernelspec": {
   "display_name": "Python 3",
   "language": "python",
   "name": "python3"
  },
  "language_info": {
   "codemirror_mode": {
    "name": "ipython",
    "version": 3
   },
   "file_extension": ".py",
   "mimetype": "text/x-python",
   "name": "python",
   "nbconvert_exporter": "python",
   "pygments_lexer": "ipython3",
   "version": "3.7.0"
  }
 },
 "nbformat": 4,
 "nbformat_minor": 2
}
